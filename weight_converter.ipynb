{
 "cells": [
  {
   "cell_type": "code",
   "execution_count": 1,
   "metadata": {},
   "outputs": [
    {
     "name": "stdout",
     "output_type": "stream",
     "text": [
      "dict_keys(['model', '__author__'])\n"
     ]
    }
   ],
   "source": [
    "import pickle\n",
    "\n",
    "d2_path = '/Users/tsuipo/Downloads/vitdet_swin-l_IN21k-sup_coco_cascade-mask.pkl'\n",
    "# d2_path = 'path/to/your_d2_model_weight.pkl'\n",
    "\n",
    "with open(d2_path, 'rb') as f:\n",
    "    d2_weight = pickle.load(f)\n",
    "\n",
    "print(d2_weight.keys())"
   ]
  },
  {
   "cell_type": "code",
   "execution_count": 2,
   "metadata": {},
   "outputs": [
    {
     "data": {
      "text/plain": [
       "odict_keys(['backbone.fpn_lateral2.weight', 'backbone.fpn_lateral2.norm.weight', 'backbone.fpn_lateral2.norm.bias', 'backbone.fpn_output2.weight', 'backbone.fpn_output2.norm.weight', 'backbone.fpn_output2.norm.bias', 'backbone.fpn_lateral3.weight', 'backbone.fpn_lateral3.norm.weight', 'backbone.fpn_lateral3.norm.bias', 'backbone.fpn_output3.weight', 'backbone.fpn_output3.norm.weight', 'backbone.fpn_output3.norm.bias', 'backbone.fpn_lateral4.weight', 'backbone.fpn_lateral4.norm.weight', 'backbone.fpn_lateral4.norm.bias', 'backbone.fpn_output4.weight', 'backbone.fpn_output4.norm.weight', 'backbone.fpn_output4.norm.bias', 'backbone.fpn_lateral5.weight', 'backbone.fpn_lateral5.norm.weight', 'backbone.fpn_lateral5.norm.bias', 'backbone.fpn_output5.weight', 'backbone.fpn_output5.norm.weight', 'backbone.fpn_output5.norm.bias', 'backbone.bottom_up.patch_embed.proj.weight', 'backbone.bottom_up.patch_embed.proj.bias', 'backbone.bottom_up.patch_embed.norm.weight', 'backbone.bottom_up.patch_embed.norm.bias', 'backbone.bottom_up.layers.0.blocks.0.norm1.weight', 'backbone.bottom_up.layers.0.blocks.0.norm1.bias', 'backbone.bottom_up.layers.0.blocks.0.attn.relative_position_bias_table', 'backbone.bottom_up.layers.0.blocks.0.attn.relative_position_index', 'backbone.bottom_up.layers.0.blocks.0.attn.qkv.weight', 'backbone.bottom_up.layers.0.blocks.0.attn.qkv.bias', 'backbone.bottom_up.layers.0.blocks.0.attn.proj.weight', 'backbone.bottom_up.layers.0.blocks.0.attn.proj.bias', 'backbone.bottom_up.layers.0.blocks.0.norm2.weight', 'backbone.bottom_up.layers.0.blocks.0.norm2.bias', 'backbone.bottom_up.layers.0.blocks.0.mlp.fc1.weight', 'backbone.bottom_up.layers.0.blocks.0.mlp.fc1.bias', 'backbone.bottom_up.layers.0.blocks.0.mlp.fc2.weight', 'backbone.bottom_up.layers.0.blocks.0.mlp.fc2.bias', 'backbone.bottom_up.layers.0.blocks.1.norm1.weight', 'backbone.bottom_up.layers.0.blocks.1.norm1.bias', 'backbone.bottom_up.layers.0.blocks.1.attn.relative_position_bias_table', 'backbone.bottom_up.layers.0.blocks.1.attn.relative_position_index', 'backbone.bottom_up.layers.0.blocks.1.attn.qkv.weight', 'backbone.bottom_up.layers.0.blocks.1.attn.qkv.bias', 'backbone.bottom_up.layers.0.blocks.1.attn.proj.weight', 'backbone.bottom_up.layers.0.blocks.1.attn.proj.bias', 'backbone.bottom_up.layers.0.blocks.1.norm2.weight', 'backbone.bottom_up.layers.0.blocks.1.norm2.bias', 'backbone.bottom_up.layers.0.blocks.1.mlp.fc1.weight', 'backbone.bottom_up.layers.0.blocks.1.mlp.fc1.bias', 'backbone.bottom_up.layers.0.blocks.1.mlp.fc2.weight', 'backbone.bottom_up.layers.0.blocks.1.mlp.fc2.bias', 'backbone.bottom_up.layers.0.downsample.reduction.weight', 'backbone.bottom_up.layers.0.downsample.norm.weight', 'backbone.bottom_up.layers.0.downsample.norm.bias', 'backbone.bottom_up.layers.1.blocks.0.norm1.weight', 'backbone.bottom_up.layers.1.blocks.0.norm1.bias', 'backbone.bottom_up.layers.1.blocks.0.attn.relative_position_bias_table', 'backbone.bottom_up.layers.1.blocks.0.attn.relative_position_index', 'backbone.bottom_up.layers.1.blocks.0.attn.qkv.weight', 'backbone.bottom_up.layers.1.blocks.0.attn.qkv.bias', 'backbone.bottom_up.layers.1.blocks.0.attn.proj.weight', 'backbone.bottom_up.layers.1.blocks.0.attn.proj.bias', 'backbone.bottom_up.layers.1.blocks.0.norm2.weight', 'backbone.bottom_up.layers.1.blocks.0.norm2.bias', 'backbone.bottom_up.layers.1.blocks.0.mlp.fc1.weight', 'backbone.bottom_up.layers.1.blocks.0.mlp.fc1.bias', 'backbone.bottom_up.layers.1.blocks.0.mlp.fc2.weight', 'backbone.bottom_up.layers.1.blocks.0.mlp.fc2.bias', 'backbone.bottom_up.layers.1.blocks.1.norm1.weight', 'backbone.bottom_up.layers.1.blocks.1.norm1.bias', 'backbone.bottom_up.layers.1.blocks.1.attn.relative_position_bias_table', 'backbone.bottom_up.layers.1.blocks.1.attn.relative_position_index', 'backbone.bottom_up.layers.1.blocks.1.attn.qkv.weight', 'backbone.bottom_up.layers.1.blocks.1.attn.qkv.bias', 'backbone.bottom_up.layers.1.blocks.1.attn.proj.weight', 'backbone.bottom_up.layers.1.blocks.1.attn.proj.bias', 'backbone.bottom_up.layers.1.blocks.1.norm2.weight', 'backbone.bottom_up.layers.1.blocks.1.norm2.bias', 'backbone.bottom_up.layers.1.blocks.1.mlp.fc1.weight', 'backbone.bottom_up.layers.1.blocks.1.mlp.fc1.bias', 'backbone.bottom_up.layers.1.blocks.1.mlp.fc2.weight', 'backbone.bottom_up.layers.1.blocks.1.mlp.fc2.bias', 'backbone.bottom_up.layers.1.downsample.reduction.weight', 'backbone.bottom_up.layers.1.downsample.norm.weight', 'backbone.bottom_up.layers.1.downsample.norm.bias', 'backbone.bottom_up.layers.2.blocks.0.norm1.weight', 'backbone.bottom_up.layers.2.blocks.0.norm1.bias', 'backbone.bottom_up.layers.2.blocks.0.attn.relative_position_bias_table', 'backbone.bottom_up.layers.2.blocks.0.attn.relative_position_index', 'backbone.bottom_up.layers.2.blocks.0.attn.qkv.weight', 'backbone.bottom_up.layers.2.blocks.0.attn.qkv.bias', 'backbone.bottom_up.layers.2.blocks.0.attn.proj.weight', 'backbone.bottom_up.layers.2.blocks.0.attn.proj.bias', 'backbone.bottom_up.layers.2.blocks.0.norm2.weight', 'backbone.bottom_up.layers.2.blocks.0.norm2.bias', 'backbone.bottom_up.layers.2.blocks.0.mlp.fc1.weight', 'backbone.bottom_up.layers.2.blocks.0.mlp.fc1.bias', 'backbone.bottom_up.layers.2.blocks.0.mlp.fc2.weight', 'backbone.bottom_up.layers.2.blocks.0.mlp.fc2.bias', 'backbone.bottom_up.layers.2.blocks.1.norm1.weight', 'backbone.bottom_up.layers.2.blocks.1.norm1.bias', 'backbone.bottom_up.layers.2.blocks.1.attn.relative_position_bias_table', 'backbone.bottom_up.layers.2.blocks.1.attn.relative_position_index', 'backbone.bottom_up.layers.2.blocks.1.attn.qkv.weight', 'backbone.bottom_up.layers.2.blocks.1.attn.qkv.bias', 'backbone.bottom_up.layers.2.blocks.1.attn.proj.weight', 'backbone.bottom_up.layers.2.blocks.1.attn.proj.bias', 'backbone.bottom_up.layers.2.blocks.1.norm2.weight', 'backbone.bottom_up.layers.2.blocks.1.norm2.bias', 'backbone.bottom_up.layers.2.blocks.1.mlp.fc1.weight', 'backbone.bottom_up.layers.2.blocks.1.mlp.fc1.bias', 'backbone.bottom_up.layers.2.blocks.1.mlp.fc2.weight', 'backbone.bottom_up.layers.2.blocks.1.mlp.fc2.bias', 'backbone.bottom_up.layers.2.blocks.2.norm1.weight', 'backbone.bottom_up.layers.2.blocks.2.norm1.bias', 'backbone.bottom_up.layers.2.blocks.2.attn.relative_position_bias_table', 'backbone.bottom_up.layers.2.blocks.2.attn.relative_position_index', 'backbone.bottom_up.layers.2.blocks.2.attn.qkv.weight', 'backbone.bottom_up.layers.2.blocks.2.attn.qkv.bias', 'backbone.bottom_up.layers.2.blocks.2.attn.proj.weight', 'backbone.bottom_up.layers.2.blocks.2.attn.proj.bias', 'backbone.bottom_up.layers.2.blocks.2.norm2.weight', 'backbone.bottom_up.layers.2.blocks.2.norm2.bias', 'backbone.bottom_up.layers.2.blocks.2.mlp.fc1.weight', 'backbone.bottom_up.layers.2.blocks.2.mlp.fc1.bias', 'backbone.bottom_up.layers.2.blocks.2.mlp.fc2.weight', 'backbone.bottom_up.layers.2.blocks.2.mlp.fc2.bias', 'backbone.bottom_up.layers.2.blocks.3.norm1.weight', 'backbone.bottom_up.layers.2.blocks.3.norm1.bias', 'backbone.bottom_up.layers.2.blocks.3.attn.relative_position_bias_table', 'backbone.bottom_up.layers.2.blocks.3.attn.relative_position_index', 'backbone.bottom_up.layers.2.blocks.3.attn.qkv.weight', 'backbone.bottom_up.layers.2.blocks.3.attn.qkv.bias', 'backbone.bottom_up.layers.2.blocks.3.attn.proj.weight', 'backbone.bottom_up.layers.2.blocks.3.attn.proj.bias', 'backbone.bottom_up.layers.2.blocks.3.norm2.weight', 'backbone.bottom_up.layers.2.blocks.3.norm2.bias', 'backbone.bottom_up.layers.2.blocks.3.mlp.fc1.weight', 'backbone.bottom_up.layers.2.blocks.3.mlp.fc1.bias', 'backbone.bottom_up.layers.2.blocks.3.mlp.fc2.weight', 'backbone.bottom_up.layers.2.blocks.3.mlp.fc2.bias', 'backbone.bottom_up.layers.2.blocks.4.norm1.weight', 'backbone.bottom_up.layers.2.blocks.4.norm1.bias', 'backbone.bottom_up.layers.2.blocks.4.attn.relative_position_bias_table', 'backbone.bottom_up.layers.2.blocks.4.attn.relative_position_index', 'backbone.bottom_up.layers.2.blocks.4.attn.qkv.weight', 'backbone.bottom_up.layers.2.blocks.4.attn.qkv.bias', 'backbone.bottom_up.layers.2.blocks.4.attn.proj.weight', 'backbone.bottom_up.layers.2.blocks.4.attn.proj.bias', 'backbone.bottom_up.layers.2.blocks.4.norm2.weight', 'backbone.bottom_up.layers.2.blocks.4.norm2.bias', 'backbone.bottom_up.layers.2.blocks.4.mlp.fc1.weight', 'backbone.bottom_up.layers.2.blocks.4.mlp.fc1.bias', 'backbone.bottom_up.layers.2.blocks.4.mlp.fc2.weight', 'backbone.bottom_up.layers.2.blocks.4.mlp.fc2.bias', 'backbone.bottom_up.layers.2.blocks.5.norm1.weight', 'backbone.bottom_up.layers.2.blocks.5.norm1.bias', 'backbone.bottom_up.layers.2.blocks.5.attn.relative_position_bias_table', 'backbone.bottom_up.layers.2.blocks.5.attn.relative_position_index', 'backbone.bottom_up.layers.2.blocks.5.attn.qkv.weight', 'backbone.bottom_up.layers.2.blocks.5.attn.qkv.bias', 'backbone.bottom_up.layers.2.blocks.5.attn.proj.weight', 'backbone.bottom_up.layers.2.blocks.5.attn.proj.bias', 'backbone.bottom_up.layers.2.blocks.5.norm2.weight', 'backbone.bottom_up.layers.2.blocks.5.norm2.bias', 'backbone.bottom_up.layers.2.blocks.5.mlp.fc1.weight', 'backbone.bottom_up.layers.2.blocks.5.mlp.fc1.bias', 'backbone.bottom_up.layers.2.blocks.5.mlp.fc2.weight', 'backbone.bottom_up.layers.2.blocks.5.mlp.fc2.bias', 'backbone.bottom_up.layers.2.blocks.6.norm1.weight', 'backbone.bottom_up.layers.2.blocks.6.norm1.bias', 'backbone.bottom_up.layers.2.blocks.6.attn.relative_position_bias_table', 'backbone.bottom_up.layers.2.blocks.6.attn.relative_position_index', 'backbone.bottom_up.layers.2.blocks.6.attn.qkv.weight', 'backbone.bottom_up.layers.2.blocks.6.attn.qkv.bias', 'backbone.bottom_up.layers.2.blocks.6.attn.proj.weight', 'backbone.bottom_up.layers.2.blocks.6.attn.proj.bias', 'backbone.bottom_up.layers.2.blocks.6.norm2.weight', 'backbone.bottom_up.layers.2.blocks.6.norm2.bias', 'backbone.bottom_up.layers.2.blocks.6.mlp.fc1.weight', 'backbone.bottom_up.layers.2.blocks.6.mlp.fc1.bias', 'backbone.bottom_up.layers.2.blocks.6.mlp.fc2.weight', 'backbone.bottom_up.layers.2.blocks.6.mlp.fc2.bias', 'backbone.bottom_up.layers.2.blocks.7.norm1.weight', 'backbone.bottom_up.layers.2.blocks.7.norm1.bias', 'backbone.bottom_up.layers.2.blocks.7.attn.relative_position_bias_table', 'backbone.bottom_up.layers.2.blocks.7.attn.relative_position_index', 'backbone.bottom_up.layers.2.blocks.7.attn.qkv.weight', 'backbone.bottom_up.layers.2.blocks.7.attn.qkv.bias', 'backbone.bottom_up.layers.2.blocks.7.attn.proj.weight', 'backbone.bottom_up.layers.2.blocks.7.attn.proj.bias', 'backbone.bottom_up.layers.2.blocks.7.norm2.weight', 'backbone.bottom_up.layers.2.blocks.7.norm2.bias', 'backbone.bottom_up.layers.2.blocks.7.mlp.fc1.weight', 'backbone.bottom_up.layers.2.blocks.7.mlp.fc1.bias', 'backbone.bottom_up.layers.2.blocks.7.mlp.fc2.weight', 'backbone.bottom_up.layers.2.blocks.7.mlp.fc2.bias', 'backbone.bottom_up.layers.2.blocks.8.norm1.weight', 'backbone.bottom_up.layers.2.blocks.8.norm1.bias', 'backbone.bottom_up.layers.2.blocks.8.attn.relative_position_bias_table', 'backbone.bottom_up.layers.2.blocks.8.attn.relative_position_index', 'backbone.bottom_up.layers.2.blocks.8.attn.qkv.weight', 'backbone.bottom_up.layers.2.blocks.8.attn.qkv.bias', 'backbone.bottom_up.layers.2.blocks.8.attn.proj.weight', 'backbone.bottom_up.layers.2.blocks.8.attn.proj.bias', 'backbone.bottom_up.layers.2.blocks.8.norm2.weight', 'backbone.bottom_up.layers.2.blocks.8.norm2.bias', 'backbone.bottom_up.layers.2.blocks.8.mlp.fc1.weight', 'backbone.bottom_up.layers.2.blocks.8.mlp.fc1.bias', 'backbone.bottom_up.layers.2.blocks.8.mlp.fc2.weight', 'backbone.bottom_up.layers.2.blocks.8.mlp.fc2.bias', 'backbone.bottom_up.layers.2.blocks.9.norm1.weight', 'backbone.bottom_up.layers.2.blocks.9.norm1.bias', 'backbone.bottom_up.layers.2.blocks.9.attn.relative_position_bias_table', 'backbone.bottom_up.layers.2.blocks.9.attn.relative_position_index', 'backbone.bottom_up.layers.2.blocks.9.attn.qkv.weight', 'backbone.bottom_up.layers.2.blocks.9.attn.qkv.bias', 'backbone.bottom_up.layers.2.blocks.9.attn.proj.weight', 'backbone.bottom_up.layers.2.blocks.9.attn.proj.bias', 'backbone.bottom_up.layers.2.blocks.9.norm2.weight', 'backbone.bottom_up.layers.2.blocks.9.norm2.bias', 'backbone.bottom_up.layers.2.blocks.9.mlp.fc1.weight', 'backbone.bottom_up.layers.2.blocks.9.mlp.fc1.bias', 'backbone.bottom_up.layers.2.blocks.9.mlp.fc2.weight', 'backbone.bottom_up.layers.2.blocks.9.mlp.fc2.bias', 'backbone.bottom_up.layers.2.blocks.10.norm1.weight', 'backbone.bottom_up.layers.2.blocks.10.norm1.bias', 'backbone.bottom_up.layers.2.blocks.10.attn.relative_position_bias_table', 'backbone.bottom_up.layers.2.blocks.10.attn.relative_position_index', 'backbone.bottom_up.layers.2.blocks.10.attn.qkv.weight', 'backbone.bottom_up.layers.2.blocks.10.attn.qkv.bias', 'backbone.bottom_up.layers.2.blocks.10.attn.proj.weight', 'backbone.bottom_up.layers.2.blocks.10.attn.proj.bias', 'backbone.bottom_up.layers.2.blocks.10.norm2.weight', 'backbone.bottom_up.layers.2.blocks.10.norm2.bias', 'backbone.bottom_up.layers.2.blocks.10.mlp.fc1.weight', 'backbone.bottom_up.layers.2.blocks.10.mlp.fc1.bias', 'backbone.bottom_up.layers.2.blocks.10.mlp.fc2.weight', 'backbone.bottom_up.layers.2.blocks.10.mlp.fc2.bias', 'backbone.bottom_up.layers.2.blocks.11.norm1.weight', 'backbone.bottom_up.layers.2.blocks.11.norm1.bias', 'backbone.bottom_up.layers.2.blocks.11.attn.relative_position_bias_table', 'backbone.bottom_up.layers.2.blocks.11.attn.relative_position_index', 'backbone.bottom_up.layers.2.blocks.11.attn.qkv.weight', 'backbone.bottom_up.layers.2.blocks.11.attn.qkv.bias', 'backbone.bottom_up.layers.2.blocks.11.attn.proj.weight', 'backbone.bottom_up.layers.2.blocks.11.attn.proj.bias', 'backbone.bottom_up.layers.2.blocks.11.norm2.weight', 'backbone.bottom_up.layers.2.blocks.11.norm2.bias', 'backbone.bottom_up.layers.2.blocks.11.mlp.fc1.weight', 'backbone.bottom_up.layers.2.blocks.11.mlp.fc1.bias', 'backbone.bottom_up.layers.2.blocks.11.mlp.fc2.weight', 'backbone.bottom_up.layers.2.blocks.11.mlp.fc2.bias', 'backbone.bottom_up.layers.2.blocks.12.norm1.weight', 'backbone.bottom_up.layers.2.blocks.12.norm1.bias', 'backbone.bottom_up.layers.2.blocks.12.attn.relative_position_bias_table', 'backbone.bottom_up.layers.2.blocks.12.attn.relative_position_index', 'backbone.bottom_up.layers.2.blocks.12.attn.qkv.weight', 'backbone.bottom_up.layers.2.blocks.12.attn.qkv.bias', 'backbone.bottom_up.layers.2.blocks.12.attn.proj.weight', 'backbone.bottom_up.layers.2.blocks.12.attn.proj.bias', 'backbone.bottom_up.layers.2.blocks.12.norm2.weight', 'backbone.bottom_up.layers.2.blocks.12.norm2.bias', 'backbone.bottom_up.layers.2.blocks.12.mlp.fc1.weight', 'backbone.bottom_up.layers.2.blocks.12.mlp.fc1.bias', 'backbone.bottom_up.layers.2.blocks.12.mlp.fc2.weight', 'backbone.bottom_up.layers.2.blocks.12.mlp.fc2.bias', 'backbone.bottom_up.layers.2.blocks.13.norm1.weight', 'backbone.bottom_up.layers.2.blocks.13.norm1.bias', 'backbone.bottom_up.layers.2.blocks.13.attn.relative_position_bias_table', 'backbone.bottom_up.layers.2.blocks.13.attn.relative_position_index', 'backbone.bottom_up.layers.2.blocks.13.attn.qkv.weight', 'backbone.bottom_up.layers.2.blocks.13.attn.qkv.bias', 'backbone.bottom_up.layers.2.blocks.13.attn.proj.weight', 'backbone.bottom_up.layers.2.blocks.13.attn.proj.bias', 'backbone.bottom_up.layers.2.blocks.13.norm2.weight', 'backbone.bottom_up.layers.2.blocks.13.norm2.bias', 'backbone.bottom_up.layers.2.blocks.13.mlp.fc1.weight', 'backbone.bottom_up.layers.2.blocks.13.mlp.fc1.bias', 'backbone.bottom_up.layers.2.blocks.13.mlp.fc2.weight', 'backbone.bottom_up.layers.2.blocks.13.mlp.fc2.bias', 'backbone.bottom_up.layers.2.blocks.14.norm1.weight', 'backbone.bottom_up.layers.2.blocks.14.norm1.bias', 'backbone.bottom_up.layers.2.blocks.14.attn.relative_position_bias_table', 'backbone.bottom_up.layers.2.blocks.14.attn.relative_position_index', 'backbone.bottom_up.layers.2.blocks.14.attn.qkv.weight', 'backbone.bottom_up.layers.2.blocks.14.attn.qkv.bias', 'backbone.bottom_up.layers.2.blocks.14.attn.proj.weight', 'backbone.bottom_up.layers.2.blocks.14.attn.proj.bias', 'backbone.bottom_up.layers.2.blocks.14.norm2.weight', 'backbone.bottom_up.layers.2.blocks.14.norm2.bias', 'backbone.bottom_up.layers.2.blocks.14.mlp.fc1.weight', 'backbone.bottom_up.layers.2.blocks.14.mlp.fc1.bias', 'backbone.bottom_up.layers.2.blocks.14.mlp.fc2.weight', 'backbone.bottom_up.layers.2.blocks.14.mlp.fc2.bias', 'backbone.bottom_up.layers.2.blocks.15.norm1.weight', 'backbone.bottom_up.layers.2.blocks.15.norm1.bias', 'backbone.bottom_up.layers.2.blocks.15.attn.relative_position_bias_table', 'backbone.bottom_up.layers.2.blocks.15.attn.relative_position_index', 'backbone.bottom_up.layers.2.blocks.15.attn.qkv.weight', 'backbone.bottom_up.layers.2.blocks.15.attn.qkv.bias', 'backbone.bottom_up.layers.2.blocks.15.attn.proj.weight', 'backbone.bottom_up.layers.2.blocks.15.attn.proj.bias', 'backbone.bottom_up.layers.2.blocks.15.norm2.weight', 'backbone.bottom_up.layers.2.blocks.15.norm2.bias', 'backbone.bottom_up.layers.2.blocks.15.mlp.fc1.weight', 'backbone.bottom_up.layers.2.blocks.15.mlp.fc1.bias', 'backbone.bottom_up.layers.2.blocks.15.mlp.fc2.weight', 'backbone.bottom_up.layers.2.blocks.15.mlp.fc2.bias', 'backbone.bottom_up.layers.2.blocks.16.norm1.weight', 'backbone.bottom_up.layers.2.blocks.16.norm1.bias', 'backbone.bottom_up.layers.2.blocks.16.attn.relative_position_bias_table', 'backbone.bottom_up.layers.2.blocks.16.attn.relative_position_index', 'backbone.bottom_up.layers.2.blocks.16.attn.qkv.weight', 'backbone.bottom_up.layers.2.blocks.16.attn.qkv.bias', 'backbone.bottom_up.layers.2.blocks.16.attn.proj.weight', 'backbone.bottom_up.layers.2.blocks.16.attn.proj.bias', 'backbone.bottom_up.layers.2.blocks.16.norm2.weight', 'backbone.bottom_up.layers.2.blocks.16.norm2.bias', 'backbone.bottom_up.layers.2.blocks.16.mlp.fc1.weight', 'backbone.bottom_up.layers.2.blocks.16.mlp.fc1.bias', 'backbone.bottom_up.layers.2.blocks.16.mlp.fc2.weight', 'backbone.bottom_up.layers.2.blocks.16.mlp.fc2.bias', 'backbone.bottom_up.layers.2.blocks.17.norm1.weight', 'backbone.bottom_up.layers.2.blocks.17.norm1.bias', 'backbone.bottom_up.layers.2.blocks.17.attn.relative_position_bias_table', 'backbone.bottom_up.layers.2.blocks.17.attn.relative_position_index', 'backbone.bottom_up.layers.2.blocks.17.attn.qkv.weight', 'backbone.bottom_up.layers.2.blocks.17.attn.qkv.bias', 'backbone.bottom_up.layers.2.blocks.17.attn.proj.weight', 'backbone.bottom_up.layers.2.blocks.17.attn.proj.bias', 'backbone.bottom_up.layers.2.blocks.17.norm2.weight', 'backbone.bottom_up.layers.2.blocks.17.norm2.bias', 'backbone.bottom_up.layers.2.blocks.17.mlp.fc1.weight', 'backbone.bottom_up.layers.2.blocks.17.mlp.fc1.bias', 'backbone.bottom_up.layers.2.blocks.17.mlp.fc2.weight', 'backbone.bottom_up.layers.2.blocks.17.mlp.fc2.bias', 'backbone.bottom_up.layers.2.downsample.reduction.weight', 'backbone.bottom_up.layers.2.downsample.norm.weight', 'backbone.bottom_up.layers.2.downsample.norm.bias', 'backbone.bottom_up.layers.3.blocks.0.norm1.weight', 'backbone.bottom_up.layers.3.blocks.0.norm1.bias', 'backbone.bottom_up.layers.3.blocks.0.attn.relative_position_bias_table', 'backbone.bottom_up.layers.3.blocks.0.attn.relative_position_index', 'backbone.bottom_up.layers.3.blocks.0.attn.qkv.weight', 'backbone.bottom_up.layers.3.blocks.0.attn.qkv.bias', 'backbone.bottom_up.layers.3.blocks.0.attn.proj.weight', 'backbone.bottom_up.layers.3.blocks.0.attn.proj.bias', 'backbone.bottom_up.layers.3.blocks.0.norm2.weight', 'backbone.bottom_up.layers.3.blocks.0.norm2.bias', 'backbone.bottom_up.layers.3.blocks.0.mlp.fc1.weight', 'backbone.bottom_up.layers.3.blocks.0.mlp.fc1.bias', 'backbone.bottom_up.layers.3.blocks.0.mlp.fc2.weight', 'backbone.bottom_up.layers.3.blocks.0.mlp.fc2.bias', 'backbone.bottom_up.layers.3.blocks.1.norm1.weight', 'backbone.bottom_up.layers.3.blocks.1.norm1.bias', 'backbone.bottom_up.layers.3.blocks.1.attn.relative_position_bias_table', 'backbone.bottom_up.layers.3.blocks.1.attn.relative_position_index', 'backbone.bottom_up.layers.3.blocks.1.attn.qkv.weight', 'backbone.bottom_up.layers.3.blocks.1.attn.qkv.bias', 'backbone.bottom_up.layers.3.blocks.1.attn.proj.weight', 'backbone.bottom_up.layers.3.blocks.1.attn.proj.bias', 'backbone.bottom_up.layers.3.blocks.1.norm2.weight', 'backbone.bottom_up.layers.3.blocks.1.norm2.bias', 'backbone.bottom_up.layers.3.blocks.1.mlp.fc1.weight', 'backbone.bottom_up.layers.3.blocks.1.mlp.fc1.bias', 'backbone.bottom_up.layers.3.blocks.1.mlp.fc2.weight', 'backbone.bottom_up.layers.3.blocks.1.mlp.fc2.bias', 'backbone.bottom_up.norm0.weight', 'backbone.bottom_up.norm0.bias', 'backbone.bottom_up.norm1.weight', 'backbone.bottom_up.norm1.bias', 'backbone.bottom_up.norm2.weight', 'backbone.bottom_up.norm2.bias', 'backbone.bottom_up.norm3.weight', 'backbone.bottom_up.norm3.bias', 'proposal_generator.rpn_head.conv.conv0.weight', 'proposal_generator.rpn_head.conv.conv0.bias', 'proposal_generator.rpn_head.conv.conv1.weight', 'proposal_generator.rpn_head.conv.conv1.bias', 'proposal_generator.rpn_head.objectness_logits.weight', 'proposal_generator.rpn_head.objectness_logits.bias', 'proposal_generator.rpn_head.anchor_deltas.weight', 'proposal_generator.rpn_head.anchor_deltas.bias', 'roi_heads.box_head.0.conv1.weight', 'roi_heads.box_head.0.conv1.norm.weight', 'roi_heads.box_head.0.conv1.norm.bias', 'roi_heads.box_head.0.conv2.weight', 'roi_heads.box_head.0.conv2.norm.weight', 'roi_heads.box_head.0.conv2.norm.bias', 'roi_heads.box_head.0.conv3.weight', 'roi_heads.box_head.0.conv3.norm.weight', 'roi_heads.box_head.0.conv3.norm.bias', 'roi_heads.box_head.0.conv4.weight', 'roi_heads.box_head.0.conv4.norm.weight', 'roi_heads.box_head.0.conv4.norm.bias', 'roi_heads.box_head.0.fc1.weight', 'roi_heads.box_head.0.fc1.bias', 'roi_heads.box_head.1.conv1.weight', 'roi_heads.box_head.1.conv1.norm.weight', 'roi_heads.box_head.1.conv1.norm.bias', 'roi_heads.box_head.1.conv2.weight', 'roi_heads.box_head.1.conv2.norm.weight', 'roi_heads.box_head.1.conv2.norm.bias', 'roi_heads.box_head.1.conv3.weight', 'roi_heads.box_head.1.conv3.norm.weight', 'roi_heads.box_head.1.conv3.norm.bias', 'roi_heads.box_head.1.conv4.weight', 'roi_heads.box_head.1.conv4.norm.weight', 'roi_heads.box_head.1.conv4.norm.bias', 'roi_heads.box_head.1.fc1.weight', 'roi_heads.box_head.1.fc1.bias', 'roi_heads.box_head.2.conv1.weight', 'roi_heads.box_head.2.conv1.norm.weight', 'roi_heads.box_head.2.conv1.norm.bias', 'roi_heads.box_head.2.conv2.weight', 'roi_heads.box_head.2.conv2.norm.weight', 'roi_heads.box_head.2.conv2.norm.bias', 'roi_heads.box_head.2.conv3.weight', 'roi_heads.box_head.2.conv3.norm.weight', 'roi_heads.box_head.2.conv3.norm.bias', 'roi_heads.box_head.2.conv4.weight', 'roi_heads.box_head.2.conv4.norm.weight', 'roi_heads.box_head.2.conv4.norm.bias', 'roi_heads.box_head.2.fc1.weight', 'roi_heads.box_head.2.fc1.bias', 'roi_heads.box_predictor.0.cls_score.weight', 'roi_heads.box_predictor.0.cls_score.bias', 'roi_heads.box_predictor.0.bbox_pred.weight', 'roi_heads.box_predictor.0.bbox_pred.bias', 'roi_heads.box_predictor.1.cls_score.weight', 'roi_heads.box_predictor.1.cls_score.bias', 'roi_heads.box_predictor.1.bbox_pred.weight', 'roi_heads.box_predictor.1.bbox_pred.bias', 'roi_heads.box_predictor.2.cls_score.weight', 'roi_heads.box_predictor.2.cls_score.bias', 'roi_heads.box_predictor.2.bbox_pred.weight', 'roi_heads.box_predictor.2.bbox_pred.bias', 'roi_heads.mask_head.mask_fcn1.weight', 'roi_heads.mask_head.mask_fcn1.norm.weight', 'roi_heads.mask_head.mask_fcn1.norm.bias', 'roi_heads.mask_head.mask_fcn2.weight', 'roi_heads.mask_head.mask_fcn2.norm.weight', 'roi_heads.mask_head.mask_fcn2.norm.bias', 'roi_heads.mask_head.mask_fcn3.weight', 'roi_heads.mask_head.mask_fcn3.norm.weight', 'roi_heads.mask_head.mask_fcn3.norm.bias', 'roi_heads.mask_head.mask_fcn4.weight', 'roi_heads.mask_head.mask_fcn4.norm.weight', 'roi_heads.mask_head.mask_fcn4.norm.bias', 'roi_heads.mask_head.deconv.weight', 'roi_heads.mask_head.deconv.bias', 'roi_heads.mask_head.predictor.weight', 'roi_heads.mask_head.predictor.bias'])"
      ]
     },
     "execution_count": 2,
     "metadata": {},
     "output_type": "execute_result"
    }
   ],
   "source": [
    "d2_weight['model'].keys()"
   ]
  },
  {
   "cell_type": "code",
   "execution_count": 3,
   "metadata": {},
   "outputs": [],
   "source": [
    "from collections import OrderedDict\n",
    "new_weight = OrderedDict()\n",
    "for k, v in d2_weight['model'].items():\n",
    "    if 'bottom_up' in k:\n",
    "        new_weight[k[19:]] = v"
   ]
  },
  {
   "cell_type": "code",
   "execution_count": 4,
   "metadata": {},
   "outputs": [],
   "source": [
    "with open('new_keys.txt', 'w') as f:\n",
    "    for key in new_weight.keys():\n",
    "        f.write(key + '\\n')\n",
    "\n",
    "# norm0.weight\n",
    "# norm0.bias\n",
    "# norm1.weight\n",
    "# norm1.bias\n",
    "# norm2.weight\n",
    "# norm2.bias\n",
    "# norm3.weight\n",
    "# norm3.bias"
   ]
  },
  {
   "cell_type": "code",
   "execution_count": 12,
   "metadata": {},
   "outputs": [
    {
     "data": {
      "text/plain": [
       "(768,)"
      ]
     },
     "execution_count": 12,
     "metadata": {},
     "output_type": "execute_result"
    }
   ],
   "source": [
    "# new_weight['norm0.weight'].shape # (192,)\n",
    "# new_weight['norm0.bias'].shape # (192,)\n",
    "# new_weight['norm1.weight'].shape # (384,)\n",
    "# new_weight['norm1.bias'].shape # (384,)\n",
    "# new_weight['norm2.weight'].shape # (768,)\n",
    "# new_weight['norm2.bias'].shape # (768,)\n",
    "# new_weight['norm3.weight'].shape # (1536,)\n",
    "# new_weight['norm3.bias'].shape # (1536,)\n",
    "\n"
   ]
  },
  {
   "cell_type": "code",
   "execution_count": 11,
   "metadata": {},
   "outputs": [
    {
     "data": {
      "text/plain": [
       "(169, 6)"
      ]
     },
     "execution_count": 11,
     "metadata": {},
     "output_type": "execute_result"
    }
   ],
   "source": [
    "d2_weight['model']['backbone.bottom_up.layers.0.blocks.0.attn.relative_position_bias_table'].shape"
   ]
  },
  {
   "cell_type": "code",
   "execution_count": 13,
   "metadata": {},
   "outputs": [
    {
     "data": {
      "text/plain": [
       "(49, 49)"
      ]
     },
     "execution_count": 13,
     "metadata": {},
     "output_type": "execute_result"
    }
   ],
   "source": [
    "d2_weight['model']['backbone.bottom_up.layers.0.blocks.0.attn.relative_position_index'].shape"
   ]
  },
  {
   "cell_type": "code",
   "execution_count": null,
   "metadata": {},
   "outputs": [],
   "source": []
  }
 ],
 "metadata": {
  "kernelspec": {
   "display_name": "base",
   "language": "python",
   "name": "python3"
  },
  "language_info": {
   "codemirror_mode": {
    "name": "ipython",
    "version": 3
   },
   "file_extension": ".py",
   "mimetype": "text/x-python",
   "name": "python",
   "nbconvert_exporter": "python",
   "pygments_lexer": "ipython3",
   "version": "3.12.2"
  }
 },
 "nbformat": 4,
 "nbformat_minor": 2
}
