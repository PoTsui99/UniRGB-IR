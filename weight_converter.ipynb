{
 "cells": [
  {
   "cell_type": "code",
   "execution_count": 1,
   "metadata": {},
   "outputs": [
    {
     "name": "stdout",
     "output_type": "stream",
     "text": [
      "dict_keys(['model', '__author__'])\n"
     ]
    }
   ],
   "source": [
    "import pickle\n",
    "\n",
    "d2_path = '/Users/tsuipo/Downloads/vitdet_swin-l_IN21k-sup_coco_cascade-mask.pkl'\n",
    "# d2_path = 'path/to/your_d2_model_weight.pkl'\n",
    "\n",
    "with open(d2_path, 'rb') as f:\n",
    "    d2_weight = pickle.load(f)\n",
    "\n",
    "print(d2_weight.keys())"
   ]
  },
  {
   "cell_type": "code",
   "execution_count": 5,
   "metadata": {},
   "outputs": [],
   "source": [
    "d2_weight['model'].keys()\n",
    "with open('d2_keys.txt', 'w') as f:\n",
    "    for key in d2_weight['model'].keys():\n",
    "        f.write(key + '\\n')\n"
   ]
  },
  {
   "cell_type": "code",
   "execution_count": 11,
   "metadata": {},
   "outputs": [
    {
     "data": {
      "text/plain": [
       "(169, 6)"
      ]
     },
     "execution_count": 11,
     "metadata": {},
     "output_type": "execute_result"
    }
   ],
   "source": [
    "d2_weight['model']['backbone.bottom_up.layers.0.blocks.0.attn.relative_position_bias_table'].shape"
   ]
  },
  {
   "cell_type": "code",
   "execution_count": 13,
   "metadata": {},
   "outputs": [
    {
     "data": {
      "text/plain": [
       "(49, 49)"
      ]
     },
     "execution_count": 13,
     "metadata": {},
     "output_type": "execute_result"
    }
   ],
   "source": [
    "d2_weight['model']['backbone.bottom_up.layers.0.blocks.0.attn.relative_position_index'].shape"
   ]
  },
  {
   "cell_type": "code",
   "execution_count": null,
   "metadata": {},
   "outputs": [],
   "source": []
  }
 ],
 "metadata": {
  "kernelspec": {
   "display_name": "base",
   "language": "python",
   "name": "python3"
  },
  "language_info": {
   "codemirror_mode": {
    "name": "ipython",
    "version": 3
   },
   "file_extension": ".py",
   "mimetype": "text/x-python",
   "name": "python",
   "nbconvert_exporter": "python",
   "pygments_lexer": "ipython3",
   "version": "3.12.2"
  }
 },
 "nbformat": 4,
 "nbformat_minor": 2
}
