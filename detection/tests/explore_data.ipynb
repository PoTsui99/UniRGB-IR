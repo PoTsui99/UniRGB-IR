{
 "cells": [
  {
   "cell_type": "code",
   "execution_count": 1,
   "metadata": {},
   "outputs": [],
   "source": [
    "import json\n",
    "\n",
    "tr = '/path/to/Datasets/M3FD_Detection/Annotation_train.json'\n",
    "te = '/path/to/Datasets/M3FD_Detection/Annotation_test.json'\n",
    "\n",
    "tr = json.load(open(tr))\n",
    "te = json.load(open(te))"
   ]
  },
  {
   "cell_type": "code",
   "execution_count": 7,
   "metadata": {},
   "outputs": [],
   "source": [
    "tr_kaist = '/path/to/Datasets/kaist-paired/kaist_test_data.json'\n",
    "tr_kaist = json.load(open(tr_kaist))"
   ]
  },
  {
   "cell_type": "code",
   "execution_count": 12,
   "metadata": {},
   "outputs": [
    {
     "data": {
      "text/plain": [
       "{'id': 0,\n",
       " 'category_id': 1,\n",
       " 'bbox': [505.0, 212.0, 20.0, 50.0],\n",
       " 'segmentation': [[505.0, 212.0, 525.0, 212.0, 525.0, 262.0, 505.0, 262.0]],\n",
       " 'area': 1000.0,\n",
       " 'iscrowd': 0,\n",
       " 'image_id': 0}"
      ]
     },
     "execution_count": 12,
     "metadata": {},
     "output_type": "execute_result"
    }
   ],
   "source": [
    "tr_kaist['annotations'][0]"
   ]
  },
  {
   "cell_type": "code",
   "execution_count": 13,
   "metadata": {},
   "outputs": [
    {
     "data": {
      "text/plain": [
       "[{'supercategory': 'none', 'id': 0, 'name': 'People'},\n",
       " {'supercategory': 'none', 'id': 1, 'name': 'Car'},\n",
       " {'supercategory': 'none', 'id': 2, 'name': 'Lamp'},\n",
       " {'supercategory': 'none', 'id': 3, 'name': 'Bus'},\n",
       " {'supercategory': 'none', 'id': 4, 'name': 'Motorcycle'},\n",
       " {'supercategory': 'none', 'id': 5, 'name': 'Truck'}]"
      ]
     },
     "execution_count": 13,
     "metadata": {},
     "output_type": "execute_result"
    }
   ],
   "source": [
    "tr['categories']"
   ]
  },
  {
   "cell_type": "code",
   "execution_count": 2,
   "metadata": {},
   "outputs": [
    {
     "data": {
      "text/plain": [
       "dict_keys(['images', 'type', 'annotations', 'categories'])"
      ]
     },
     "execution_count": 2,
     "metadata": {},
     "output_type": "execute_result"
    }
   ],
   "source": [
    "tr.keys()"
   ]
  },
  {
   "cell_type": "code",
   "execution_count": 3,
   "metadata": {},
   "outputs": [
    {
     "data": {
      "text/plain": [
       "dict_keys(['images', 'type', 'annotations', 'categories'])"
      ]
     },
     "execution_count": 3,
     "metadata": {},
     "output_type": "execute_result"
    }
   ],
   "source": [
    "te.keys()"
   ]
  },
  {
   "cell_type": "code",
   "execution_count": 10,
   "metadata": {},
   "outputs": [],
   "source": [
    "import numpy as np\n",
    "\n",
    "tr_heights = np.array(list(tr['images'][i]['height'] for i in range(len(tr['images']))))"
   ]
  },
  {
   "cell_type": "code",
   "execution_count": 11,
   "metadata": {},
   "outputs": [
    {
     "data": {
      "text/plain": [
       "array([280, 320, 360, 400, 420, 480, 520, 768])"
      ]
     },
     "execution_count": 11,
     "metadata": {},
     "output_type": "execute_result"
    }
   ],
   "source": [
    "np.unique(tr_heights)"
   ]
  },
  {
   "cell_type": "code",
   "execution_count": 13,
   "metadata": {},
   "outputs": [
    {
     "data": {
      "text/plain": [
       "Counter({768: 2747,\n",
       "         360: 23,\n",
       "         480: 27,\n",
       "         320: 23,\n",
       "         280: 26,\n",
       "         420: 29,\n",
       "         400: 31,\n",
       "         520: 34})"
      ]
     },
     "execution_count": 13,
     "metadata": {},
     "output_type": "execute_result"
    }
   ],
   "source": [
    "from collections import Counter\n",
    "\n",
    "tr_heights_counter = Counter(tr_heights)\n",
    "tr_heights_counter"
   ]
  },
  {
   "cell_type": "code",
   "execution_count": 15,
   "metadata": {},
   "outputs": [
    {
     "data": {
      "text/plain": [
       "array([ 400,  440,  480,  740,  780,  800,  880, 1024])"
      ]
     },
     "execution_count": 15,
     "metadata": {},
     "output_type": "execute_result"
    }
   ],
   "source": [
    "tr_widths = np.array(list(tr['images'][i]['width'] for i in range(len(tr['images']))))\n",
    "np.unique(tr_widths)"
   ]
  },
  {
   "cell_type": "code",
   "execution_count": 17,
   "metadata": {},
   "outputs": [
    {
     "data": {
      "text/plain": [
       "Counter({1024: 2747,\n",
       "         480: 23,\n",
       "         800: 27,\n",
       "         440: 33,\n",
       "         400: 16,\n",
       "         780: 29,\n",
       "         740: 31,\n",
       "         880: 34})"
      ]
     },
     "execution_count": 17,
     "metadata": {},
     "output_type": "execute_result"
    }
   ],
   "source": [
    "tr_widths_counter = Counter(tr_widths)\n",
    "tr_widths_counter"
   ]
  },
  {
   "cell_type": "code",
   "execution_count": 21,
   "metadata": {},
   "outputs": [
    {
     "data": {
      "text/plain": [
       "array([0.53846154, 0.54054054, 0.59090909, 0.6       , 0.63636364,\n",
       "       0.7       , 0.72727273, 0.75      ])"
      ]
     },
     "execution_count": 21,
     "metadata": {},
     "output_type": "execute_result"
    }
   ],
   "source": [
    "tr_ratios = np.array(list(tr['images'][i]['height']/tr['images'][i]['width'] for i in range(len(tr['images']))))\n",
    "np.unique(tr_ratios)"
   ]
  },
  {
   "cell_type": "code",
   "execution_count": 24,
   "metadata": {},
   "outputs": [
    {
     "data": {
      "text/plain": [
       "Counter({0.75: 2770,\n",
       "         0.6: 27,\n",
       "         0.7272727272727273: 23,\n",
       "         0.6363636363636364: 10,\n",
       "         0.7: 16,\n",
       "         0.5384615384615384: 29,\n",
       "         0.5405405405405406: 31,\n",
       "         0.5909090909090909: 34})"
      ]
     },
     "execution_count": 24,
     "metadata": {},
     "output_type": "execute_result"
    }
   ],
   "source": [
    "Counter(tr_ratios)"
   ]
  },
  {
   "cell_type": "code",
   "execution_count": 28,
   "metadata": {},
   "outputs": [
    {
     "data": {
      "text/plain": [
       "array([0.53846154, 0.54054054, 0.59090909, 0.6       , 0.63636364,\n",
       "       0.7       , 0.72727273, 0.75      ])"
      ]
     },
     "execution_count": 28,
     "metadata": {},
     "output_type": "execute_result"
    }
   ],
   "source": [
    "te_ratios = np.array(list(te['images'][i]['height']/te['images'][i]['width'] for i in range(len(te['images']))))\n",
    "np.unique(te_ratios)"
   ]
  },
  {
   "cell_type": "code",
   "execution_count": 29,
   "metadata": {},
   "outputs": [
    {
     "data": {
      "text/plain": [
       "Counter({0.75: 1190,\n",
       "         0.6: 9,\n",
       "         0.7272727272727273: 9,\n",
       "         0.6363636363636364: 6,\n",
       "         0.7: 7,\n",
       "         0.5384615384615384: 12,\n",
       "         0.5405405405405406: 12,\n",
       "         0.5909090909090909: 15})"
      ]
     },
     "execution_count": 29,
     "metadata": {},
     "output_type": "execute_result"
    }
   ],
   "source": [
    "Counter(te_ratios)"
   ]
  },
  {
   "cell_type": "code",
   "execution_count": 35,
   "metadata": {},
   "outputs": [
    {
     "data": {
      "text/plain": [
       "2940"
      ]
     },
     "execution_count": 35,
     "metadata": {},
     "output_type": "execute_result"
    }
   ],
   "source": [
    "len(tr['images'])"
   ]
  },
  {
   "cell_type": "code",
   "execution_count": 36,
   "metadata": {},
   "outputs": [
    {
     "data": {
      "text/plain": [
       "1260"
      ]
     },
     "execution_count": 36,
     "metadata": {},
     "output_type": "execute_result"
    }
   ],
   "source": [
    "len(te['images'])"
   ]
  },
  {
   "cell_type": "code",
   "execution_count": null,
   "metadata": {},
   "outputs": [],
   "source": []
  }
 ],
 "metadata": {
  "kernelspec": {
   "display_name": "detrex",
   "language": "python",
   "name": "python3"
  },
  "language_info": {
   "codemirror_mode": {
    "name": "ipython",
    "version": 3
   },
   "file_extension": ".py",
   "mimetype": "text/x-python",
   "name": "python",
   "nbconvert_exporter": "python",
   "pygments_lexer": "ipython3",
   "version": "3.9.16"
  },
  "orig_nbformat": 4
 },
 "nbformat": 4,
 "nbformat_minor": 2
}
