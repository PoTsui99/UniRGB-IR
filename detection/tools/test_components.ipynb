{
 "cells": [
  {
   "cell_type": "code",
   "execution_count": 7,
   "metadata": {},
   "outputs": [],
   "source": [
    "# import sys\n",
    "# sys.path.append('../mmdet')\n",
    "from mmengine.config import Config, DictAction\n",
    "from mmengine.runner import Runner  # 从 MMEngine 中导入了以下\n",
    "from mmengine.registry import (DATA_SAMPLERS, DATASETS, EVALUATOR, FUNCTIONS,\n",
    "                               HOOKS, LOG_PROCESSORS, LOOPS, MODEL_WRAPPERS,\n",
    "                               MODELS, OPTIM_WRAPPERS, PARAM_SCHEDULERS,\n",
    "                               RUNNERS, VISUALIZERS, DefaultScope)\n",
    "# from mmdet.registry import DATASETS\n",
    "# from mmengine.registry import Registry\n",
    "# from mmengine import build_from_cfg\n",
    "\n",
    "cfg = Config.fromfile(\"/path/to/codes/mmdet-VPT/configs/_base_/datasets/flir(aligned)/filr_dual_768.py\")"
   ]
  },
  {
   "cell_type": "code",
   "execution_count": 8,
   "metadata": {},
   "outputs": [],
   "source": [
    "from mmengine.registry.build_functions import build_model_from_cfg"
   ]
  },
  {
   "cell_type": "code",
   "execution_count": 14,
   "metadata": {},
   "outputs": [
    {
     "data": {
      "text/plain": [
       "dict_keys(['dataset_type', 'classes', 'data_root', 'image_size', 'backend_args', 'train_pipeline', 'test_pipeline', 'train_dataloader', 'val_dataloader', 'test_dataloader'])"
      ]
     },
     "execution_count": 14,
     "metadata": {},
     "output_type": "execute_result"
    }
   ],
   "source": [
    "cfg.keys()"
   ]
  },
  {
   "cell_type": "code",
   "execution_count": 15,
   "metadata": {},
   "outputs": [
    {
     "data": {
      "text/html": [
       "<pre style=\"white-space:pre;overflow-x:auto;line-height:normal;font-family:Menlo,'DejaVu Sans Mono',consolas,'Courier New',monospace\"></pre>\n"
      ],
      "text/plain": []
     },
     "metadata": {},
     "output_type": "display_data"
    },
    {
     "data": {
      "text/plain": [
       "\u001b[3m                                        Registry of dataset                                        \u001b[0m\n",
       "┏━━━━━━━━━━━━━━━━━━━━━━━━━━━━┳━━━━━━━━━━━━━━━━━━━━━━━━━━━━━━━━━━━━━━━━━━━━━━━━━━━━━━━━━━━━━━━━━━━━┓\n",
       "┃\u001b[1m \u001b[0m\u001b[1mNames                     \u001b[0m\u001b[1m \u001b[0m┃\u001b[1m \u001b[0m\u001b[1mObjects                                                           \u001b[0m\u001b[1m \u001b[0m┃\n",
       "┡━━━━━━━━━━━━━━━━━━━━━━━━━━━━╇━━━━━━━━━━━━━━━━━━━━━━━━━━━━━━━━━━━━━━━━━━━━━━━━━━━━━━━━━━━━━━━━━━━━┩\n",
       "│\u001b[36m \u001b[0m\u001b[36mADE20KInstanceDataset     \u001b[0m\u001b[36m \u001b[0m│\u001b[32m \u001b[0m\u001b[32m<class 'mmdet.datasets.ade20k.ADE20KInstanceDataset'>             \u001b[0m\u001b[32m \u001b[0m│\n",
       "│\u001b[36m \u001b[0m\u001b[36mADE20KPanopticDataset     \u001b[0m\u001b[36m \u001b[0m│\u001b[32m \u001b[0m\u001b[32m<class 'mmdet.datasets.ade20k.ADE20KPanopticDataset'>             \u001b[0m\u001b[32m \u001b[0m│\n",
       "│\u001b[36m \u001b[0m\u001b[36mADE20KSegDataset          \u001b[0m\u001b[36m \u001b[0m│\u001b[32m \u001b[0m\u001b[32m<class 'mmdet.datasets.ade20k.ADE20KSegDataset'>                  \u001b[0m\u001b[32m \u001b[0m│\n",
       "│\u001b[36m \u001b[0m\u001b[36mBaseDetDataset            \u001b[0m\u001b[36m \u001b[0m│\u001b[32m \u001b[0m\u001b[32m<class 'mmdet.datasets.base_det_dataset.BaseDetDataset'>          \u001b[0m\u001b[32m \u001b[0m│\n",
       "│\u001b[36m \u001b[0m\u001b[36mBaseSegDataset            \u001b[0m\u001b[36m \u001b[0m│\u001b[32m \u001b[0m\u001b[32m<class 'mmdet.datasets.base_semseg_dataset.BaseSegDataset'>       \u001b[0m\u001b[32m \u001b[0m│\n",
       "│\u001b[36m \u001b[0m\u001b[36mBaseVideoDataset          \u001b[0m\u001b[36m \u001b[0m│\u001b[32m \u001b[0m\u001b[32m<class 'mmdet.datasets.base_video_dataset.BaseVideoDataset'>      \u001b[0m\u001b[32m \u001b[0m│\n",
       "│\u001b[36m \u001b[0m\u001b[36mCityscapesDataset         \u001b[0m\u001b[36m \u001b[0m│\u001b[32m \u001b[0m\u001b[32m<class 'mmdet.datasets.cityscapes.CityscapesDataset'>             \u001b[0m\u001b[32m \u001b[0m│\n",
       "│\u001b[36m \u001b[0m\u001b[36mCocoCaptionDataset        \u001b[0m\u001b[36m \u001b[0m│\u001b[32m \u001b[0m\u001b[32m<class 'mmdet.datasets.coco_caption.CocoCaptionDataset'>          \u001b[0m\u001b[32m \u001b[0m│\n",
       "│\u001b[36m \u001b[0m\u001b[36mCocoDataset               \u001b[0m\u001b[36m \u001b[0m│\u001b[32m \u001b[0m\u001b[32m<class 'mmdet.datasets.coco.CocoDataset'>                         \u001b[0m\u001b[32m \u001b[0m│\n",
       "│\u001b[36m \u001b[0m\u001b[36mCocoPanopticDataset       \u001b[0m\u001b[36m \u001b[0m│\u001b[32m \u001b[0m\u001b[32m<class 'mmdet.datasets.coco_panoptic.CocoPanopticDataset'>        \u001b[0m\u001b[32m \u001b[0m│\n",
       "│\u001b[36m \u001b[0m\u001b[36mCocoSegDataset            \u001b[0m\u001b[36m \u001b[0m│\u001b[32m \u001b[0m\u001b[32m<class 'mmdet.datasets.coco_semantic.CocoSegDataset'>             \u001b[0m\u001b[32m \u001b[0m│\n",
       "│\u001b[36m \u001b[0m\u001b[36mCrowdHumanDataset         \u001b[0m\u001b[36m \u001b[0m│\u001b[32m \u001b[0m\u001b[32m<class 'mmdet.datasets.crowdhuman.CrowdHumanDataset'>             \u001b[0m\u001b[32m \u001b[0m│\n",
       "│\u001b[36m \u001b[0m\u001b[36mDSDLDetDataset            \u001b[0m\u001b[36m \u001b[0m│\u001b[32m \u001b[0m\u001b[32m<class 'mmdet.datasets.dsdl.DSDLDetDataset'>                      \u001b[0m\u001b[32m \u001b[0m│\n",
       "│\u001b[36m \u001b[0m\u001b[36mDeepFashionDataset        \u001b[0m\u001b[36m \u001b[0m│\u001b[32m \u001b[0m\u001b[32m<class 'mmdet.datasets.deepfashion.DeepFashionDataset'>           \u001b[0m\u001b[32m \u001b[0m│\n",
       "│\u001b[36m \u001b[0m\u001b[36mDualSpectralDataset       \u001b[0m\u001b[36m \u001b[0m│\u001b[32m \u001b[0m\u001b[32m<class 'mmdet.datasets.dual_spectral.DualSpectralDataset'>        \u001b[0m\u001b[32m \u001b[0m│\n",
       "│\u001b[36m \u001b[0m\u001b[36mLVISDataset               \u001b[0m\u001b[36m \u001b[0m│\u001b[32m \u001b[0m\u001b[32m<class 'mmdet.datasets.lvis.LVISV05Dataset'>                      \u001b[0m\u001b[32m \u001b[0m│\n",
       "│\u001b[36m \u001b[0m\u001b[36mLVISV05Dataset            \u001b[0m\u001b[36m \u001b[0m│\u001b[32m \u001b[0m\u001b[32m<class 'mmdet.datasets.lvis.LVISV05Dataset'>                      \u001b[0m\u001b[32m \u001b[0m│\n",
       "│\u001b[36m \u001b[0m\u001b[36mLVISV1Dataset             \u001b[0m\u001b[36m \u001b[0m│\u001b[32m \u001b[0m\u001b[32m<class 'mmdet.datasets.lvis.LVISV1Dataset'>                       \u001b[0m\u001b[32m \u001b[0m│\n",
       "│\u001b[36m \u001b[0m\u001b[36mMOTChallengeDataset       \u001b[0m\u001b[36m \u001b[0m│\u001b[32m \u001b[0m\u001b[32m<class 'mmdet.datasets.mot_challenge_dataset.MOTChallengeDataset'>\u001b[0m\u001b[32m \u001b[0m│\n",
       "│\u001b[36m \u001b[0m\u001b[36mMultiImageMixDataset      \u001b[0m\u001b[36m \u001b[0m│\u001b[32m \u001b[0m\u001b[32m<class 'mmdet.datasets.dataset_wrappers.MultiImageMixDataset'>    \u001b[0m\u001b[32m \u001b[0m│\n",
       "│\u001b[36m \u001b[0m\u001b[36mObjects365V1Dataset       \u001b[0m\u001b[36m \u001b[0m│\u001b[32m \u001b[0m\u001b[32m<class 'mmdet.datasets.objects365.Objects365V1Dataset'>           \u001b[0m\u001b[32m \u001b[0m│\n",
       "│\u001b[36m \u001b[0m\u001b[36mObjects365V2Dataset       \u001b[0m\u001b[36m \u001b[0m│\u001b[32m \u001b[0m\u001b[32m<class 'mmdet.datasets.objects365.Objects365V2Dataset'>           \u001b[0m\u001b[32m \u001b[0m│\n",
       "│\u001b[36m \u001b[0m\u001b[36mOpenImagesChallengeDataset\u001b[0m\u001b[36m \u001b[0m│\u001b[32m \u001b[0m\u001b[32m<class 'mmdet.datasets.openimages.OpenImagesChallengeDataset'>    \u001b[0m\u001b[32m \u001b[0m│\n",
       "│\u001b[36m \u001b[0m\u001b[36mOpenImagesDataset         \u001b[0m\u001b[36m \u001b[0m│\u001b[32m \u001b[0m\u001b[32m<class 'mmdet.datasets.openimages.OpenImagesDataset'>             \u001b[0m\u001b[32m \u001b[0m│\n",
       "│\u001b[36m \u001b[0m\u001b[36mReIDDataset               \u001b[0m\u001b[36m \u001b[0m│\u001b[32m \u001b[0m\u001b[32m<class 'mmdet.datasets.reid_dataset.ReIDDataset'>                 \u001b[0m\u001b[32m \u001b[0m│\n",
       "│\u001b[36m \u001b[0m\u001b[36mRefCocoDataset            \u001b[0m\u001b[36m \u001b[0m│\u001b[32m \u001b[0m\u001b[32m<class 'mmdet.datasets.refcoco.RefCocoDataset'>                   \u001b[0m\u001b[32m \u001b[0m│\n",
       "│\u001b[36m \u001b[0m\u001b[36mVOCDataset                \u001b[0m\u001b[36m \u001b[0m│\u001b[32m \u001b[0m\u001b[32m<class 'mmdet.datasets.voc.VOCDataset'>                           \u001b[0m\u001b[32m \u001b[0m│\n",
       "│\u001b[36m \u001b[0m\u001b[36mWIDERFaceDataset          \u001b[0m\u001b[36m \u001b[0m│\u001b[32m \u001b[0m\u001b[32m<class 'mmdet.datasets.wider_face.WIDERFaceDataset'>              \u001b[0m\u001b[32m \u001b[0m│\n",
       "│\u001b[36m \u001b[0m\u001b[36mXMLDataset                \u001b[0m\u001b[36m \u001b[0m│\u001b[32m \u001b[0m\u001b[32m<class 'mmdet.datasets.xml_style.XMLDataset'>                     \u001b[0m\u001b[32m \u001b[0m│\n",
       "│\u001b[36m \u001b[0m\u001b[36mYouTubeVISDataset         \u001b[0m\u001b[36m \u001b[0m│\u001b[32m \u001b[0m\u001b[32m<class 'mmdet.datasets.youtube_vis_dataset.YouTubeVISDataset'>    \u001b[0m\u001b[32m \u001b[0m│\n",
       "│\u001b[36m \u001b[0m\u001b[36miSAIDDataset              \u001b[0m\u001b[36m \u001b[0m│\u001b[32m \u001b[0m\u001b[32m<class 'mmdet.datasets.isaid.iSAIDDataset'>                       \u001b[0m\u001b[32m \u001b[0m│\n",
       "└────────────────────────────┴────────────────────────────────────────────────────────────────────┘"
      ]
     },
     "execution_count": 15,
     "metadata": {},
     "output_type": "execute_result"
    }
   ],
   "source": [
    "from mmdet.registry import DATASETS\n",
    "DATASETS"
   ]
  },
  {
   "cell_type": "code",
   "execution_count": 17,
   "metadata": {},
   "outputs": [
    {
     "data": {
      "text/html": [
       "<pre style=\"white-space:pre;overflow-x:auto;line-height:normal;font-family:Menlo,'DejaVu Sans Mono',consolas,'Courier New',monospace\"></pre>\n"
      ],
      "text/plain": []
     },
     "metadata": {},
     "output_type": "display_data"
    },
    {
     "data": {
      "text/plain": [
       "\u001b[3m                                        Registry of dataset                                        \u001b[0m\n",
       "┏━━━━━━━━━━━━━━━━━━━━━━━━━━━━┳━━━━━━━━━━━━━━━━━━━━━━━━━━━━━━━━━━━━━━━━━━━━━━━━━━━━━━━━━━━━━━━━━━━━┓\n",
       "┃\u001b[1m \u001b[0m\u001b[1mNames                     \u001b[0m\u001b[1m \u001b[0m┃\u001b[1m \u001b[0m\u001b[1mObjects                                                           \u001b[0m\u001b[1m \u001b[0m┃\n",
       "┡━━━━━━━━━━━━━━━━━━━━━━━━━━━━╇━━━━━━━━━━━━━━━━━━━━━━━━━━━━━━━━━━━━━━━━━━━━━━━━━━━━━━━━━━━━━━━━━━━━┩\n",
       "│\u001b[36m \u001b[0m\u001b[36mADE20KInstanceDataset     \u001b[0m\u001b[36m \u001b[0m│\u001b[32m \u001b[0m\u001b[32m<class 'mmdet.datasets.ade20k.ADE20KInstanceDataset'>             \u001b[0m\u001b[32m \u001b[0m│\n",
       "│\u001b[36m \u001b[0m\u001b[36mADE20KPanopticDataset     \u001b[0m\u001b[36m \u001b[0m│\u001b[32m \u001b[0m\u001b[32m<class 'mmdet.datasets.ade20k.ADE20KPanopticDataset'>             \u001b[0m\u001b[32m \u001b[0m│\n",
       "│\u001b[36m \u001b[0m\u001b[36mADE20KSegDataset          \u001b[0m\u001b[36m \u001b[0m│\u001b[32m \u001b[0m\u001b[32m<class 'mmdet.datasets.ade20k.ADE20KSegDataset'>                  \u001b[0m\u001b[32m \u001b[0m│\n",
       "│\u001b[36m \u001b[0m\u001b[36mBaseDetDataset            \u001b[0m\u001b[36m \u001b[0m│\u001b[32m \u001b[0m\u001b[32m<class 'mmdet.datasets.base_det_dataset.BaseDetDataset'>          \u001b[0m\u001b[32m \u001b[0m│\n",
       "│\u001b[36m \u001b[0m\u001b[36mBaseSegDataset            \u001b[0m\u001b[36m \u001b[0m│\u001b[32m \u001b[0m\u001b[32m<class 'mmdet.datasets.base_semseg_dataset.BaseSegDataset'>       \u001b[0m\u001b[32m \u001b[0m│\n",
       "│\u001b[36m \u001b[0m\u001b[36mBaseVideoDataset          \u001b[0m\u001b[36m \u001b[0m│\u001b[32m \u001b[0m\u001b[32m<class 'mmdet.datasets.base_video_dataset.BaseVideoDataset'>      \u001b[0m\u001b[32m \u001b[0m│\n",
       "│\u001b[36m \u001b[0m\u001b[36mCityscapesDataset         \u001b[0m\u001b[36m \u001b[0m│\u001b[32m \u001b[0m\u001b[32m<class 'mmdet.datasets.cityscapes.CityscapesDataset'>             \u001b[0m\u001b[32m \u001b[0m│\n",
       "│\u001b[36m \u001b[0m\u001b[36mCocoCaptionDataset        \u001b[0m\u001b[36m \u001b[0m│\u001b[32m \u001b[0m\u001b[32m<class 'mmdet.datasets.coco_caption.CocoCaptionDataset'>          \u001b[0m\u001b[32m \u001b[0m│\n",
       "│\u001b[36m \u001b[0m\u001b[36mCocoDataset               \u001b[0m\u001b[36m \u001b[0m│\u001b[32m \u001b[0m\u001b[32m<class 'mmdet.datasets.coco.CocoDataset'>                         \u001b[0m\u001b[32m \u001b[0m│\n",
       "│\u001b[36m \u001b[0m\u001b[36mCocoPanopticDataset       \u001b[0m\u001b[36m \u001b[0m│\u001b[32m \u001b[0m\u001b[32m<class 'mmdet.datasets.coco_panoptic.CocoPanopticDataset'>        \u001b[0m\u001b[32m \u001b[0m│\n",
       "│\u001b[36m \u001b[0m\u001b[36mCocoSegDataset            \u001b[0m\u001b[36m \u001b[0m│\u001b[32m \u001b[0m\u001b[32m<class 'mmdet.datasets.coco_semantic.CocoSegDataset'>             \u001b[0m\u001b[32m \u001b[0m│\n",
       "│\u001b[36m \u001b[0m\u001b[36mCrowdHumanDataset         \u001b[0m\u001b[36m \u001b[0m│\u001b[32m \u001b[0m\u001b[32m<class 'mmdet.datasets.crowdhuman.CrowdHumanDataset'>             \u001b[0m\u001b[32m \u001b[0m│\n",
       "│\u001b[36m \u001b[0m\u001b[36mDSDLDetDataset            \u001b[0m\u001b[36m \u001b[0m│\u001b[32m \u001b[0m\u001b[32m<class 'mmdet.datasets.dsdl.DSDLDetDataset'>                      \u001b[0m\u001b[32m \u001b[0m│\n",
       "│\u001b[36m \u001b[0m\u001b[36mDeepFashionDataset        \u001b[0m\u001b[36m \u001b[0m│\u001b[32m \u001b[0m\u001b[32m<class 'mmdet.datasets.deepfashion.DeepFashionDataset'>           \u001b[0m\u001b[32m \u001b[0m│\n",
       "│\u001b[36m \u001b[0m\u001b[36mDualSpectralDataset       \u001b[0m\u001b[36m \u001b[0m│\u001b[32m \u001b[0m\u001b[32m<class 'mmdet.datasets.dual_spectral.DualSpectralDataset'>        \u001b[0m\u001b[32m \u001b[0m│\n",
       "│\u001b[36m \u001b[0m\u001b[36mLVISDataset               \u001b[0m\u001b[36m \u001b[0m│\u001b[32m \u001b[0m\u001b[32m<class 'mmdet.datasets.lvis.LVISV05Dataset'>                      \u001b[0m\u001b[32m \u001b[0m│\n",
       "│\u001b[36m \u001b[0m\u001b[36mLVISV05Dataset            \u001b[0m\u001b[36m \u001b[0m│\u001b[32m \u001b[0m\u001b[32m<class 'mmdet.datasets.lvis.LVISV05Dataset'>                      \u001b[0m\u001b[32m \u001b[0m│\n",
       "│\u001b[36m \u001b[0m\u001b[36mLVISV1Dataset             \u001b[0m\u001b[36m \u001b[0m│\u001b[32m \u001b[0m\u001b[32m<class 'mmdet.datasets.lvis.LVISV1Dataset'>                       \u001b[0m\u001b[32m \u001b[0m│\n",
       "│\u001b[36m \u001b[0m\u001b[36mMOTChallengeDataset       \u001b[0m\u001b[36m \u001b[0m│\u001b[32m \u001b[0m\u001b[32m<class 'mmdet.datasets.mot_challenge_dataset.MOTChallengeDataset'>\u001b[0m\u001b[32m \u001b[0m│\n",
       "│\u001b[36m \u001b[0m\u001b[36mMultiImageMixDataset      \u001b[0m\u001b[36m \u001b[0m│\u001b[32m \u001b[0m\u001b[32m<class 'mmdet.datasets.dataset_wrappers.MultiImageMixDataset'>    \u001b[0m\u001b[32m \u001b[0m│\n",
       "│\u001b[36m \u001b[0m\u001b[36mObjects365V1Dataset       \u001b[0m\u001b[36m \u001b[0m│\u001b[32m \u001b[0m\u001b[32m<class 'mmdet.datasets.objects365.Objects365V1Dataset'>           \u001b[0m\u001b[32m \u001b[0m│\n",
       "│\u001b[36m \u001b[0m\u001b[36mObjects365V2Dataset       \u001b[0m\u001b[36m \u001b[0m│\u001b[32m \u001b[0m\u001b[32m<class 'mmdet.datasets.objects365.Objects365V2Dataset'>           \u001b[0m\u001b[32m \u001b[0m│\n",
       "│\u001b[36m \u001b[0m\u001b[36mOpenImagesChallengeDataset\u001b[0m\u001b[36m \u001b[0m│\u001b[32m \u001b[0m\u001b[32m<class 'mmdet.datasets.openimages.OpenImagesChallengeDataset'>    \u001b[0m\u001b[32m \u001b[0m│\n",
       "│\u001b[36m \u001b[0m\u001b[36mOpenImagesDataset         \u001b[0m\u001b[36m \u001b[0m│\u001b[32m \u001b[0m\u001b[32m<class 'mmdet.datasets.openimages.OpenImagesDataset'>             \u001b[0m\u001b[32m \u001b[0m│\n",
       "│\u001b[36m \u001b[0m\u001b[36mReIDDataset               \u001b[0m\u001b[36m \u001b[0m│\u001b[32m \u001b[0m\u001b[32m<class 'mmdet.datasets.reid_dataset.ReIDDataset'>                 \u001b[0m\u001b[32m \u001b[0m│\n",
       "│\u001b[36m \u001b[0m\u001b[36mRefCocoDataset            \u001b[0m\u001b[36m \u001b[0m│\u001b[32m \u001b[0m\u001b[32m<class 'mmdet.datasets.refcoco.RefCocoDataset'>                   \u001b[0m\u001b[32m \u001b[0m│\n",
       "│\u001b[36m \u001b[0m\u001b[36mVOCDataset                \u001b[0m\u001b[36m \u001b[0m│\u001b[32m \u001b[0m\u001b[32m<class 'mmdet.datasets.voc.VOCDataset'>                           \u001b[0m\u001b[32m \u001b[0m│\n",
       "│\u001b[36m \u001b[0m\u001b[36mWIDERFaceDataset          \u001b[0m\u001b[36m \u001b[0m│\u001b[32m \u001b[0m\u001b[32m<class 'mmdet.datasets.wider_face.WIDERFaceDataset'>              \u001b[0m\u001b[32m \u001b[0m│\n",
       "│\u001b[36m \u001b[0m\u001b[36mXMLDataset                \u001b[0m\u001b[36m \u001b[0m│\u001b[32m \u001b[0m\u001b[32m<class 'mmdet.datasets.xml_style.XMLDataset'>                     \u001b[0m\u001b[32m \u001b[0m│\n",
       "│\u001b[36m \u001b[0m\u001b[36mYouTubeVISDataset         \u001b[0m\u001b[36m \u001b[0m│\u001b[32m \u001b[0m\u001b[32m<class 'mmdet.datasets.youtube_vis_dataset.YouTubeVISDataset'>    \u001b[0m\u001b[32m \u001b[0m│\n",
       "│\u001b[36m \u001b[0m\u001b[36miSAIDDataset              \u001b[0m\u001b[36m \u001b[0m│\u001b[32m \u001b[0m\u001b[32m<class 'mmdet.datasets.isaid.iSAIDDataset'>                       \u001b[0m\u001b[32m \u001b[0m│\n",
       "└────────────────────────────┴────────────────────────────────────────────────────────────────────┘"
      ]
     },
     "execution_count": 17,
     "metadata": {},
     "output_type": "execute_result"
    }
   ],
   "source": [
    "DATASETS"
   ]
  },
  {
   "cell_type": "markdown",
   "metadata": {},
   "source": [
    "MMEngine 是 Lazy initialization, 比如在调用 train() 的时候再实例化模型"
   ]
  },
  {
   "cell_type": "code",
   "execution_count": 28,
   "metadata": {},
   "outputs": [
    {
     "data": {
      "text/plain": [
       "dict_keys(['dataset_type', 'classes', 'data_root', 'image_size', 'backend_args', 'train_pipeline', 'test_pipeline', 'train_dataloader', 'val_dataloader', 'test_dataloader'])"
      ]
     },
     "execution_count": 28,
     "metadata": {},
     "output_type": "execute_result"
    }
   ],
   "source": [
    "cfg.keys()"
   ]
  },
  {
   "cell_type": "code",
   "execution_count": 29,
   "metadata": {},
   "outputs": [
    {
     "data": {
      "text/plain": [
       "{'batch_size': 2,\n",
       " 'num_workers': 8,\n",
       " 'persistent_workers': True,\n",
       " 'sampler': {'type': 'DefaultSampler', 'shuffle': True},\n",
       " 'dataset': {'type': 'DualSpectralDataset',\n",
       "  'data_root': '/path/to/Datasets/FLIR_align/',\n",
       "  'metainfo': {'classes': ('car', 'person', 'bicycle')},\n",
       "  'ann_file': 'Annotation_train.json',\n",
       "  'data_prefix': {'img': 'train/'},\n",
       "  'filter_cfg': {'filter_empty_gt': True, 'min_size': 32},\n",
       "  'pipeline': [{'type': 'LoadAlignedImagesFromFile', 'backend_args': None},\n",
       "   {'type': 'LoadAnnotations', 'with_bbox': True, 'with_mask': True},\n",
       "   {'type': 'AlignedImagesRandomFlip', 'prob': 0.5, 'direction': 'horizontal'},\n",
       "   {'type': 'RandomResize',\n",
       "    'scale': (768, 768),\n",
       "    'ratio_range': (0.1, 2.0),\n",
       "    'keep_ratio': True},\n",
       "   {'type': 'AlignedImagesRandomCrop',\n",
       "    'crop_type': 'absolute_range',\n",
       "    'crop_size': (768, 768),\n",
       "    'recompute_bbox': True,\n",
       "    'allow_negative_crop': True},\n",
       "   {'type': 'FilterAnnotations', 'min_gt_bbox_wh': (0.01, 0.01)},\n",
       "   {'type': 'AlignedImagesPad',\n",
       "    'size': (768, 768),\n",
       "    'pad_val': {'img': (114, 114, 114)}},\n",
       "   {'type': 'PackAlignedImagesDetInputs'}]}}"
      ]
     },
     "execution_count": 29,
     "metadata": {},
     "output_type": "execute_result"
    }
   ],
   "source": [
    "cfg['train_dataloader']"
   ]
  },
  {
   "cell_type": "code",
   "execution_count": 30,
   "metadata": {},
   "outputs": [
    {
     "data": {
      "text/html": [
       "<pre style=\"white-space:pre;overflow-x:auto;line-height:normal;font-family:Menlo,'DejaVu Sans Mono',consolas,'Courier New',monospace\"></pre>\n"
      ],
      "text/plain": []
     },
     "metadata": {},
     "output_type": "display_data"
    },
    {
     "data": {
      "text/plain": [
       "\u001b[3m                                   Registry of dataset                                    \u001b[0m\n",
       "┏━━━━━━━━━━━━━━━━━━━━━━┳━━━━━━━━━━━━━━━━━━━━━━━━━━━━━━━━━━━━━━━━━━━━━━━━━━━━━━━━━━━━━━━━━┓\n",
       "┃\u001b[1m \u001b[0m\u001b[1mNames               \u001b[0m\u001b[1m \u001b[0m┃\u001b[1m \u001b[0m\u001b[1mObjects                                                        \u001b[0m\u001b[1m \u001b[0m┃\n",
       "┡━━━━━━━━━━━━━━━━━━━━━━╇━━━━━━━━━━━━━━━━━━━━━━━━━━━━━━━━━━━━━━━━━━━━━━━━━━━━━━━━━━━━━━━━━┩\n",
       "│\u001b[36m \u001b[0m\u001b[36mClassBalancedDataset\u001b[0m\u001b[36m \u001b[0m│\u001b[32m \u001b[0m\u001b[32m<class 'mmengine.dataset.dataset_wrapper.ClassBalancedDataset'>\u001b[0m\u001b[32m \u001b[0m│\n",
       "│\u001b[36m \u001b[0m\u001b[36mConcatDataset       \u001b[0m\u001b[36m \u001b[0m│\u001b[32m \u001b[0m\u001b[32m<class 'mmengine.dataset.dataset_wrapper.ConcatDataset'>       \u001b[0m\u001b[32m \u001b[0m│\n",
       "│\u001b[36m \u001b[0m\u001b[36mRepeatDataset       \u001b[0m\u001b[36m \u001b[0m│\u001b[32m \u001b[0m\u001b[32m<class 'mmengine.dataset.dataset_wrapper.RepeatDataset'>       \u001b[0m\u001b[32m \u001b[0m│\n",
       "└──────────────────────┴─────────────────────────────────────────────────────────────────┘"
      ]
     },
     "execution_count": 30,
     "metadata": {},
     "output_type": "execute_result"
    }
   ],
   "source": [
    "DATASETS"
   ]
  },
  {
   "cell_type": "code",
   "execution_count": 12,
   "metadata": {},
   "outputs": [
    {
     "ename": "KeyError",
     "evalue": "'DualSpectralDataset is not in the dataset registry. Please check whether the value of `DualSpectralDataset` is correct or it was registered as expected. More details can be found at https://mmengine.readthedocs.io/en/latest/advanced_tutorials/config.html#import-the-custom-module'",
     "output_type": "error",
     "traceback": [
      "\u001b[0;31m---------------------------------------------------------------------------\u001b[0m",
      "\u001b[0;31mKeyError\u001b[0m                                  Traceback (most recent call last)",
      "\u001b[1;32m/path/to/codes/mmdet-VPT/tools/test_components.ipynb Cell 5\u001b[0m line \u001b[0;36m<cell line: 1>\u001b[0;34m()\u001b[0m\n\u001b[0;32m----> <a href='vscode-notebook-cell://ssh-remote%2B7b22686f73744e616d65223a2244616e6e79227d/path/to/codes/mmdet-VPT/tools/test_components.ipynb#W5sdnNjb2RlLXJlbW90ZQ%3D%3D?line=0'>1</a>\u001b[0m loader \u001b[39m=\u001b[39m Runner\u001b[39m.\u001b[39;49mbuild_dataloader(cfg[\u001b[39m'\u001b[39;49m\u001b[39mtrain_dataloader\u001b[39;49m\u001b[39m'\u001b[39;49m])\n",
      "File \u001b[0;32m~/anaconda3/envs/detrex/lib/python3.9/site-packages/mmengine/runner/runner.py:1351\u001b[0m, in \u001b[0;36mRunner.build_dataloader\u001b[0;34m(dataloader, seed, diff_rank_seed)\u001b[0m\n\u001b[1;32m   1349\u001b[0m dataset_cfg \u001b[39m=\u001b[39m dataloader_cfg\u001b[39m.\u001b[39mpop(\u001b[39m'\u001b[39m\u001b[39mdataset\u001b[39m\u001b[39m'\u001b[39m)\n\u001b[1;32m   1350\u001b[0m \u001b[39mif\u001b[39;00m \u001b[39misinstance\u001b[39m(dataset_cfg, \u001b[39mdict\u001b[39m):\n\u001b[0;32m-> 1351\u001b[0m     dataset \u001b[39m=\u001b[39m DATASETS\u001b[39m.\u001b[39;49mbuild(dataset_cfg)\n\u001b[1;32m   1352\u001b[0m     \u001b[39mif\u001b[39;00m \u001b[39mhasattr\u001b[39m(dataset, \u001b[39m'\u001b[39m\u001b[39mfull_init\u001b[39m\u001b[39m'\u001b[39m):\n\u001b[1;32m   1353\u001b[0m         dataset\u001b[39m.\u001b[39mfull_init()\n",
      "File \u001b[0;32m~/anaconda3/envs/detrex/lib/python3.9/site-packages/mmengine/registry/registry.py:570\u001b[0m, in \u001b[0;36mRegistry.build\u001b[0;34m(self, cfg, *args, **kwargs)\u001b[0m\n\u001b[1;32m    548\u001b[0m \u001b[39mdef\u001b[39;00m \u001b[39mbuild\u001b[39m(\u001b[39mself\u001b[39m, cfg: \u001b[39mdict\u001b[39m, \u001b[39m*\u001b[39margs, \u001b[39m*\u001b[39m\u001b[39m*\u001b[39mkwargs) \u001b[39m-\u001b[39m\u001b[39m>\u001b[39m Any:\n\u001b[1;32m    549\u001b[0m \u001b[39m    \u001b[39m\u001b[39m\"\"\"Build an instance.\u001b[39;00m\n\u001b[1;32m    550\u001b[0m \n\u001b[1;32m    551\u001b[0m \u001b[39m    Build an instance by calling :attr:`build_func`.\u001b[39;00m\n\u001b[0;32m   (...)\u001b[0m\n\u001b[1;32m    568\u001b[0m \u001b[39m        >>> model = MODELS.build(cfg)\u001b[39;00m\n\u001b[1;32m    569\u001b[0m \u001b[39m    \"\"\"\u001b[39;00m\n\u001b[0;32m--> 570\u001b[0m     \u001b[39mreturn\u001b[39;00m \u001b[39mself\u001b[39;49m\u001b[39m.\u001b[39;49mbuild_func(cfg, \u001b[39m*\u001b[39;49margs, \u001b[39m*\u001b[39;49m\u001b[39m*\u001b[39;49mkwargs, registry\u001b[39m=\u001b[39;49m\u001b[39mself\u001b[39;49m)\n",
      "File \u001b[0;32m~/anaconda3/envs/detrex/lib/python3.9/site-packages/mmengine/registry/build_functions.py:100\u001b[0m, in \u001b[0;36mbuild_from_cfg\u001b[0;34m(cfg, registry, default_args)\u001b[0m\n\u001b[1;32m     98\u001b[0m     obj_cls \u001b[39m=\u001b[39m registry\u001b[39m.\u001b[39mget(obj_type)\n\u001b[1;32m     99\u001b[0m     \u001b[39mif\u001b[39;00m obj_cls \u001b[39mis\u001b[39;00m \u001b[39mNone\u001b[39;00m:\n\u001b[0;32m--> 100\u001b[0m         \u001b[39mraise\u001b[39;00m \u001b[39mKeyError\u001b[39;00m(\n\u001b[1;32m    101\u001b[0m             \u001b[39mf\u001b[39m\u001b[39m'\u001b[39m\u001b[39m{\u001b[39;00mobj_type\u001b[39m}\u001b[39;00m\u001b[39m is not in the \u001b[39m\u001b[39m{\u001b[39;00mregistry\u001b[39m.\u001b[39mname\u001b[39m}\u001b[39;00m\u001b[39m registry. \u001b[39m\u001b[39m'\u001b[39m\n\u001b[1;32m    102\u001b[0m             \u001b[39mf\u001b[39m\u001b[39m'\u001b[39m\u001b[39mPlease check whether the value of `\u001b[39m\u001b[39m{\u001b[39;00mobj_type\u001b[39m}\u001b[39;00m\u001b[39m` is \u001b[39m\u001b[39m'\u001b[39m\n\u001b[1;32m    103\u001b[0m             \u001b[39m'\u001b[39m\u001b[39mcorrect or it was registered as expected. More details \u001b[39m\u001b[39m'\u001b[39m\n\u001b[1;32m    104\u001b[0m             \u001b[39m'\u001b[39m\u001b[39mcan be found at \u001b[39m\u001b[39m'\u001b[39m\n\u001b[1;32m    105\u001b[0m             \u001b[39m'\u001b[39m\u001b[39mhttps://mmengine.readthedocs.io/en/latest/advanced_tutorials/config.html#import-the-custom-module\u001b[39m\u001b[39m'\u001b[39m  \u001b[39m# noqa: E501\u001b[39;00m\n\u001b[1;32m    106\u001b[0m         )\n\u001b[1;32m    107\u001b[0m \u001b[39m# this will include classes, functions, partial functions and more\u001b[39;00m\n\u001b[1;32m    108\u001b[0m \u001b[39melif\u001b[39;00m \u001b[39mcallable\u001b[39m(obj_type):\n",
      "\u001b[0;31mKeyError\u001b[0m: 'DualSpectralDataset is not in the dataset registry. Please check whether the value of `DualSpectralDataset` is correct or it was registered as expected. More details can be found at https://mmengine.readthedocs.io/en/latest/advanced_tutorials/config.html#import-the-custom-module'"
     ]
    }
   ],
   "source": [
    "loader = Runner.build_dataloader(cfg['train_dataloader'])"
   ]
  },
  {
   "cell_type": "code",
   "execution_count": 1,
   "metadata": {},
   "outputs": [],
   "source": [
    "from mmdet import registry"
   ]
  },
  {
   "cell_type": "code",
   "execution_count": 3,
   "metadata": {},
   "outputs": [
    {
     "data": {
      "text/html": [
       "<pre style=\"white-space:pre;overflow-x:auto;line-height:normal;font-family:Menlo,'DejaVu Sans Mono',consolas,'Courier New',monospace\"></pre>\n"
      ],
      "text/plain": []
     },
     "metadata": {},
     "output_type": "display_data"
    },
    {
     "data": {
      "text/plain": [
       "\u001b[3mRegistry of runner \u001b[0m\n",
       "┏━━━━━━━┳━━━━━━━━━┓\n",
       "┃\u001b[1m \u001b[0m\u001b[1mNames\u001b[0m\u001b[1m \u001b[0m┃\u001b[1m \u001b[0m\u001b[1mObjects\u001b[0m\u001b[1m \u001b[0m┃\n",
       "┡━━━━━━━╇━━━━━━━━━┩\n",
       "└───────┴─────────┘"
      ]
     },
     "execution_count": 3,
     "metadata": {},
     "output_type": "execute_result"
    }
   ],
   "source": [
    "registry.RUNNERS"
   ]
  },
  {
   "cell_type": "code",
   "execution_count": 6,
   "metadata": {},
   "outputs": [],
   "source": [
    "import mmengin"
   ]
  },
  {
   "cell_type": "code",
   "execution_count": 7,
   "metadata": {},
   "outputs": [
    {
     "data": {
      "text/html": [
       "<pre style=\"white-space:pre;overflow-x:auto;line-height:normal;font-family:Menlo,'DejaVu Sans Mono',consolas,'Courier New',monospace\"></pre>\n"
      ],
      "text/plain": []
     },
     "metadata": {},
     "output_type": "display_data"
    },
    {
     "data": {
      "text/plain": [
       "\u001b[3mRegistry of dataset\u001b[0m\n",
       "┏━━━━━━━┳━━━━━━━━━┓\n",
       "┃\u001b[1m \u001b[0m\u001b[1mNames\u001b[0m\u001b[1m \u001b[0m┃\u001b[1m \u001b[0m\u001b[1mObjects\u001b[0m\u001b[1m \u001b[0m┃\n",
       "┡━━━━━━━╇━━━━━━━━━┩\n",
       "└───────┴─────────┘"
      ]
     },
     "execution_count": 7,
     "metadata": {},
     "output_type": "execute_result"
    }
   ],
   "source": [
    "DATASETS"
   ]
  },
  {
   "cell_type": "code",
   "execution_count": null,
   "metadata": {},
   "outputs": [],
   "source": []
  }
 ],
 "metadata": {
  "kernelspec": {
   "display_name": "detrex",
   "language": "python",
   "name": "python3"
  },
  "language_info": {
   "codemirror_mode": {
    "name": "ipython",
    "version": 3
   },
   "file_extension": ".py",
   "mimetype": "text/x-python",
   "name": "python",
   "nbconvert_exporter": "python",
   "pygments_lexer": "ipython3",
   "version": "3.9.16"
  },
  "orig_nbformat": 4
 },
 "nbformat": 4,
 "nbformat_minor": 2
}
